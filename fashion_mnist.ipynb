{
 "cells": [
  {
   "cell_type": "code",
   "execution_count": 1,
   "metadata": {},
   "outputs": [
    {
     "name": "stderr",
     "output_type": "stream",
     "text": [
      "Using TensorFlow backend.\n"
     ]
    }
   ],
   "source": [
    "import numpy as np\n",
    "import pandas as pd\n",
    "import tensorflow as tf\n",
    "import keras "
   ]
  },
  {
   "cell_type": "code",
   "execution_count": 2,
   "metadata": {},
   "outputs": [],
   "source": [
    "import matplotlib.pyplot as plt"
   ]
  },
  {
   "cell_type": "code",
   "execution_count": 3,
   "metadata": {},
   "outputs": [],
   "source": [
    "fashion_mnist = keras.datasets.fashion_mnist  # load dataset\n",
    "\n",
    "(train_images, train_labels), (test_images, test_labels) = fashion_mnist.load_data()  # split into tetsing and training"
   ]
  },
  {
   "cell_type": "code",
   "execution_count": 4,
   "metadata": {},
   "outputs": [
    {
     "data": {
      "text/plain": [
       "(60000, 28, 28)"
      ]
     },
     "execution_count": 4,
     "metadata": {},
     "output_type": "execute_result"
    }
   ],
   "source": [
    "train_images.shape"
   ]
  },
  {
   "cell_type": "code",
   "execution_count": 5,
   "metadata": {},
   "outputs": [
    {
     "data": {
      "text/plain": [
       "255"
      ]
     },
     "execution_count": 5,
     "metadata": {},
     "output_type": "execute_result"
    }
   ],
   "source": [
    "train_images.max()"
   ]
  },
  {
   "cell_type": "code",
   "execution_count": 6,
   "metadata": {},
   "outputs": [
    {
     "data": {
      "text/plain": [
       "array([9, 0, 0, 3, 0, 2, 7, 2, 5, 5, 0, 9, 5, 5, 7, 9, 1, 0, 6, 4, 3, 1,\n",
       "       4, 8, 4, 3, 0, 2, 4, 4, 5, 3, 6, 6, 0, 8, 5, 2, 1, 6, 6, 7, 9, 5,\n",
       "       9, 2, 7, 3, 0, 3, 3, 3, 7, 2, 2, 6, 6, 8, 3, 3, 5, 0, 5, 5, 0, 2,\n",
       "       0, 0, 4, 1, 3, 1, 6, 3, 1, 4, 4, 6, 1, 9, 1, 3, 5, 7, 9, 7, 1, 7,\n",
       "       9, 9, 9, 3, 2, 9, 3, 6, 4, 1, 1, 8, 8, 0, 1, 1, 6, 8, 1, 9, 7, 8,\n",
       "       8, 9, 6, 6, 3, 1, 5, 4, 6, 7, 5, 5, 9, 2], dtype=uint8)"
      ]
     },
     "execution_count": 6,
     "metadata": {},
     "output_type": "execute_result"
    }
   ],
   "source": [
    "train_labels[:124]"
   ]
  },
  {
   "cell_type": "code",
   "execution_count": 7,
   "metadata": {},
   "outputs": [],
   "source": [
    "class_labels=['T-shirt/top', 'Trouser', 'Pullover', 'Dress', 'Coat',\n",
    "               'Sandal', 'Shirt', 'Sneaker', 'Bag', 'Ankle boot']"
   ]
  },
  {
   "cell_type": "code",
   "execution_count": 14,
   "metadata": {},
   "outputs": [
    {
     "data": {
      "text/plain": [
       "<matplotlib.image.AxesImage at 0x1efc3ee4ac8>"
      ]
     },
     "execution_count": 14,
     "metadata": {},
     "output_type": "execute_result"
    },
    {
     "data": {
      "image/png": "[encoded data removed]",
      "text/plain": [
       "<Figure size 432x288 with 1 Axes>"
      ]
     },
     "metadata": {
      "needs_background": "light"
     },
     "output_type": "display_data"
    }
   ],
   "source": [
    "plt.imshow(train_images[3],cmap=\"gray\")"
   ]
  },
  {
   "cell_type": "code",
   "execution_count": 9,
   "metadata": {},
   "outputs": [],
   "source": [
    "train_images = train_images / 255.0\n",
    "\n",
    "test_images = test_images / 255.0"
   ]
  },
  {
   "cell_type": "code",
   "execution_count": 10,
   "metadata": {},
   "outputs": [],
   "source": [
    "model = keras.Sequential([\n",
    "    keras.layers.Flatten(input_shape=(28, 28)),  \n",
    "    keras.layers.Dense(256, activation='relu'),  \n",
    "    keras.layers.Dense(128, activation='relu'),  \n",
    "    keras.layers.Dense(64, activation='relu'),  \n",
    "    keras.layers.Dense(10, activation='softmax') \n",
    "])"
   ]
  },
  {
   "cell_type": "code",
   "execution_count": 11,
   "metadata": {},
   "outputs": [],
   "source": [
    "model.compile(optimizer='adam',\n",
    "              loss='sparse_categorical_crossentropy',\n",
    "              metrics=['accuracy'])"
   ]
  },
  {
   "cell_type": "code",
   "execution_count": 19,
   "metadata": {},
   "outputs": [
    {
     "name": "stdout",
     "output_type": "stream",
     "text": [
      "Epoch 1/100\n",
      "60000/60000 [==============================] - 6s 107us/step - loss: 0.0785 - accuracy: 0.9704\n",
      "Epoch 2/100\n",
      "60000/60000 [==============================] - 6s 104us/step - loss: 0.0673 - accuracy: 0.9743\n",
      "Epoch 3/100\n",
      "60000/60000 [==============================] - 6s 96us/step - loss: 0.0749 - accuracy: 0.9715\n",
      "Epoch 4/100\n",
      "60000/60000 [==============================] - 6s 103us/step - loss: 0.0706 - accuracy: 0.9732\n",
      "Epoch 5/100\n",
      "60000/60000 [==============================] - 6s 97us/step - loss: 0.0673 - accuracy: 0.9739\n",
      "Epoch 6/100\n",
      "60000/60000 [==============================] - 6s 101us/step - loss: 0.0641 - accuracy: 0.9749\n",
      "Epoch 7/100\n",
      "60000/60000 [==============================] - 5s 85us/step - loss: 0.0658 - accuracy: 0.9756\n",
      "Epoch 8/100\n",
      "60000/60000 [==============================] - 5s 85us/step - loss: 0.0648 - accuracy: 0.9747\n",
      "Epoch 9/100\n",
      "60000/60000 [==============================] - 5s 83us/step - loss: 0.0652 - accuracy: 0.9755\n",
      "Epoch 10/100\n",
      "60000/60000 [==============================] - 6s 95us/step - loss: 0.0583 - accuracy: 0.9781\n",
      "Epoch 11/100\n",
      "60000/60000 [==============================] - 5s 86us/step - loss: 0.0584 - accuracy: 0.9779\n",
      "Epoch 12/100\n",
      "60000/60000 [==============================] - 5s 86us/step - loss: 0.0631 - accuracy: 0.9762\n",
      "Epoch 13/100\n",
      "60000/60000 [==============================] - 5s 81us/step - loss: 0.0570 - accuracy: 0.9783\n",
      "Epoch 14/100\n",
      "60000/60000 [==============================] - ETA: 0s - loss: 0.0624 - accuracy: 0.97 - 5s 84us/step - loss: 0.0625 - accuracy: 0.9773\n",
      "Epoch 15/100\n",
      "60000/60000 [==============================] - 5s 80us/step - loss: 0.0537 - accuracy: 0.9801\n",
      "Epoch 16/100\n",
      "60000/60000 [==============================] - 5s 88us/step - loss: 0.0552 - accuracy: 0.9790\n",
      "Epoch 17/100\n",
      "60000/60000 [==============================] - 6s 99us/step - loss: 0.0546 - accuracy: 0.9792\n",
      "Epoch 18/100\n",
      "60000/60000 [==============================] - 6s 98us/step - loss: 0.0538 - accuracy: 0.9797\n",
      "Epoch 19/100\n",
      "60000/60000 [==============================] - 6s 100us/step - loss: 0.0466 - accuracy: 0.9821\n",
      "Epoch 20/100\n",
      "60000/60000 [==============================] - 6s 97us/step - loss: 0.0518 - accuracy: 0.9804\n",
      "Epoch 21/100\n",
      "60000/60000 [==============================] - 5s 89us/step - loss: 0.0590 - accuracy: 0.9781\n",
      "Epoch 22/100\n",
      "60000/60000 [==============================] - 5s 87us/step - loss: 0.0508 - accuracy: 0.9816\n",
      "Epoch 23/100\n",
      "60000/60000 [==============================] - 5s 83us/step - loss: 0.0486 - accuracy: 0.9821\n",
      "Epoch 24/100\n",
      "60000/60000 [==============================] - 5s 87us/step - loss: 0.0510 - accuracy: 0.9810\n",
      "Epoch 25/100\n",
      "60000/60000 [==============================] - 5s 85us/step - loss: 0.0483 - accuracy: 0.9818\n",
      "Epoch 26/100\n",
      "60000/60000 [==============================] - 5s 89us/step - loss: 0.0460 - accuracy: 0.9827\n",
      "Epoch 27/100\n",
      "60000/60000 [==============================] - 5s 80us/step - loss: 0.0467 - accuracy: 0.9828\n",
      "Epoch 28/100\n",
      "60000/60000 [==============================] - 5s 77us/step - loss: 0.0447 - accuracy: 0.9833\n",
      "Epoch 29/100\n",
      "60000/60000 [==============================] - 5s 90us/step - loss: 0.0468 - accuracy: 0.9826\n",
      "Epoch 30/100\n",
      "60000/60000 [==============================] - 6s 98us/step - loss: 0.0419 - accuracy: 0.9838\n",
      "Epoch 31/100\n",
      "60000/60000 [==============================] - 7s 121us/step - loss: 0.0403 - accuracy: 0.9848\n",
      "Epoch 32/100\n",
      "60000/60000 [==============================] - ETA: 0s - loss: 0.0408 - accuracy: 0.98 - 7s 113us/step - loss: 0.0410 - accuracy: 0.9846\n",
      "Epoch 33/100\n",
      "60000/60000 [==============================] - 6s 108us/step - loss: 0.0476 - accuracy: 0.9828\n",
      "Epoch 34/100\n",
      "60000/60000 [==============================] - 7s 120us/step - loss: 0.0452 - accuracy: 0.9831\n",
      "Epoch 35/100\n",
      "60000/60000 [==============================] - 6s 108us/step - loss: 0.0449 - accuracy: 0.9834\n",
      "Epoch 36/100\n",
      "60000/60000 [==============================] - 7s 117us/step - loss: 0.0433 - accuracy: 0.9840\n",
      "Epoch 37/100\n",
      "60000/60000 [==============================] - 6s 105us/step - loss: 0.0426 - accuracy: 0.9839\n",
      "Epoch 38/100\n",
      "60000/60000 [==============================] - 6s 108us/step - loss: 0.0392 - accuracy: 0.9862\n",
      "Epoch 39/100\n",
      "60000/60000 [==============================] - 6s 104us/step - loss: 0.0411 - accuracy: 0.98470s - los\n",
      "Epoch 40/100\n",
      "60000/60000 [==============================] - 6s 101us/step - loss: 0.0442 - accuracy: 0.9841\n",
      "Epoch 41/100\n",
      "60000/60000 [==============================] - 6s 107us/step - loss: 0.0391 - accuracy: 0.9861\n",
      "Epoch 42/100\n",
      "60000/60000 [==============================] - 7s 115us/step - loss: 0.0340 - accuracy: 0.9876\n",
      "Epoch 43/100\n",
      "60000/60000 [==============================] - 6s 107us/step - loss: 0.0425 - accuracy: 0.98430s - loss: 0.0425 - accuracy: 0.98\n",
      "Epoch 44/100\n",
      "60000/60000 [==============================] - 7s 116us/step - loss: 0.0410 - accuracy: 0.9848\n",
      "Epoch 45/100\n",
      "60000/60000 [==============================] - 6s 97us/step - loss: 0.0309 - accuracy: 0.9885\n",
      "Epoch 46/100\n",
      "60000/60000 [==============================] - 7s 109us/step - loss: 0.0345 - accuracy: 0.9868\n",
      "Epoch 47/100\n",
      "60000/60000 [==============================] - 7s 115us/step - loss: 0.0421 - accuracy: 0.9851\n",
      "Epoch 48/100\n",
      "60000/60000 [==============================] - 7s 123us/step - loss: 0.0332 - accuracy: 0.9878\n",
      "Epoch 49/100\n",
      "60000/60000 [==============================] - 6s 98us/step - loss: 0.0369 - accuracy: 0.9863\n",
      "Epoch 50/100\n",
      "60000/60000 [==============================] - 6s 100us/step - loss: 0.0336 - accuracy: 0.9876\n",
      "Epoch 51/100\n",
      "60000/60000 [==============================] - 6s 95us/step - loss: 0.0360 - accuracy: 0.9869\n",
      "Epoch 52/100\n",
      "60000/60000 [==============================] - 7s 123us/step - loss: 0.0412 - accuracy: 0.9851\n",
      "Epoch 53/100\n",
      "60000/60000 [==============================] - 8s 129us/step - loss: 0.0326 - accuracy: 0.9885\n",
      "Epoch 54/100\n",
      "60000/60000 [==============================] - 9s 143us/step - loss: 0.0338 - accuracy: 0.9874\n",
      "Epoch 55/100\n",
      "60000/60000 [==============================] - 7s 124us/step - loss: 0.0333 - accuracy: 0.9878\n",
      "Epoch 56/100\n",
      "60000/60000 [==============================] - 6s 107us/step - loss: 0.0330 - accuracy: 0.9885\n",
      "Epoch 57/100\n",
      "60000/60000 [==============================] - 6s 94us/step - loss: 0.0351 - accuracy: 0.9874\n",
      "Epoch 58/100\n",
      "60000/60000 [==============================] - 5s 90us/step - loss: 0.0362 - accuracy: 0.9872\n",
      "Epoch 59/100\n",
      "60000/60000 [==============================] - 6s 101us/step - loss: 0.0334 - accuracy: 0.9883\n",
      "Epoch 60/100\n",
      "60000/60000 [==============================] - 5s 92us/step - loss: 0.0274 - accuracy: 0.9903\n",
      "Epoch 61/100\n",
      "60000/60000 [==============================] - 6s 100us/step - loss: 0.0321 - accuracy: 0.9891\n",
      "Epoch 62/100\n",
      "60000/60000 [==============================] - 5s 82us/step - loss: 0.0301 - accuracy: 0.9887\n",
      "Epoch 63/100\n",
      "60000/60000 [==============================] - 5s 82us/step - loss: 0.0360 - accuracy: 0.9878\n",
      "Epoch 64/100\n",
      "60000/60000 [==============================] - 5s 82us/step - loss: 0.0301 - accuracy: 0.9889\n",
      "Epoch 65/100\n",
      "60000/60000 [==============================] - 5s 90us/step - loss: 0.0338 - accuracy: 0.9885\n",
      "Epoch 66/100\n",
      "60000/60000 [==============================] - 5s 88us/step - loss: 0.0217 - accuracy: 0.9917\n",
      "Epoch 67/100\n",
      "60000/60000 [==============================] - 5s 83us/step - loss: 0.0336 - accuracy: 0.9877\n",
      "Epoch 68/100\n",
      "60000/60000 [==============================] - 5s 83us/step - loss: 0.0330 - accuracy: 0.9886\n",
      "Epoch 69/100\n",
      "60000/60000 [==============================] - 5s 82us/step - loss: 0.0301 - accuracy: 0.9895\n",
      "Epoch 70/100\n",
      "60000/60000 [==============================] - 5s 80us/step - loss: 0.0349 - accuracy: 0.9879\n",
      "Epoch 71/100\n",
      "60000/60000 [==============================] - 6s 99us/step - loss: 0.0273 - accuracy: 0.9905\n",
      "Epoch 72/100\n",
      "60000/60000 [==============================] - 6s 104us/step - loss: 0.0227 - accuracy: 0.9919\n",
      "Epoch 73/100\n",
      "60000/60000 [==============================] - 5s 91us/step - loss: 0.0308 - accuracy: 0.9891 \n",
      "Epoch 74/100\n",
      "60000/60000 [==============================] - 7s 115us/step - loss: 0.0320 - accuracy: 0.9890\n",
      "Epoch 75/100\n",
      "60000/60000 [==============================] - 10s 173us/step - loss: 0.0219 - accuracy: 0.9921\n",
      "Epoch 76/100\n",
      "60000/60000 [==============================] - 7s 117us/step - loss: 0.0301 - accuracy: 0.9893\n",
      "Epoch 77/100\n",
      "60000/60000 [==============================] - 6s 94us/step - loss: 0.0332 - accuracy: 0.9885\n",
      "Epoch 78/100\n",
      "60000/60000 [==============================] - 6s 93us/step - loss: 0.0259 - accuracy: 0.9909\n",
      "Epoch 79/100\n",
      "60000/60000 [==============================] - 6s 106us/step - loss: 0.0253 - accuracy: 0.9913\n",
      "Epoch 80/100\n",
      "60000/60000 [==============================] - 6s 96us/step - loss: 0.0277 - accuracy: 0.9901\n",
      "Epoch 81/100\n",
      "60000/60000 [==============================] - 6s 103us/step - loss: 0.0336 - accuracy: 0.9884\n",
      "Epoch 82/100\n",
      "60000/60000 [==============================] - 6s 94us/step - loss: 0.0183 - accuracy: 0.9934\n",
      "Epoch 83/100\n",
      "60000/60000 [==============================] - 6s 92us/step - loss: 0.0274 - accuracy: 0.9901\n",
      "Epoch 84/100\n",
      "60000/60000 [==============================] - 5s 88us/step - loss: 0.0260 - accuracy: 0.9908\n",
      "Epoch 85/100\n",
      "60000/60000 [==============================] - 5s 81us/step - loss: 0.0352 - accuracy: 0.9882\n",
      "Epoch 86/100\n",
      "60000/60000 [==============================] - 9s 145us/step - loss: 0.0242 - accuracy: 0.9914\n",
      "Epoch 87/100\n",
      "60000/60000 [==============================] - 11s 182us/step - loss: 0.0279 - accuracy: 0.9903\n",
      "Epoch 88/100\n",
      "60000/60000 [==============================] - 10s 174us/step - loss: 0.0171 - accuracy: 0.9941\n",
      "Epoch 89/100\n",
      "60000/60000 [==============================] - 10s 163us/step - loss: 0.0354 - accuracy: 0.9876\n",
      "Epoch 90/100\n",
      "60000/60000 [==============================] - 11s 191us/step - loss: 0.0238 - accuracy: 0.9917\n",
      "Epoch 91/100\n",
      "60000/60000 [==============================] - 10s 171us/step - loss: 0.0203 - accuracy: 0.9926\n",
      "Epoch 92/100\n",
      "60000/60000 [==============================] - 9s 156us/step - loss: 0.0195 - accuracy: 0.9932\n",
      "Epoch 93/100\n",
      "60000/60000 [==============================] - 10s 165us/step - loss: 0.0298 - accuracy: 0.9897\n",
      "Epoch 94/100\n",
      "60000/60000 [==============================] - 10s 159us/step - loss: 0.0266 - accuracy: 0.9911\n",
      "Epoch 95/100\n",
      "60000/60000 [==============================] - 9s 156us/step - loss: 0.0204 - accuracy: 0.9931\n",
      "Epoch 96/100\n",
      "60000/60000 [==============================] - 9s 158us/step - loss: 0.0212 - accuracy: 0.9925\n",
      "Epoch 97/100\n",
      "60000/60000 [==============================] - 10s 159us/step - loss: 0.0322 - accuracy: 0.9888\n",
      "Epoch 98/100\n",
      "60000/60000 [==============================] - 10s 170us/step - loss: 0.0207 - accuracy: 0.9929\n",
      "Epoch 99/100\n",
      "60000/60000 [==============================] - 10s 161us/step - loss: 0.0270 - accuracy: 0.9908\n",
      "Epoch 100/100\n",
      "60000/60000 [==============================] - 9s 156us/step - loss: 0.0172 - accuracy: 0.9941\n"
     ]
    },
    {
     "data": {
      "text/plain": [
       "<keras.callbacks.callbacks.History at 0x123d4f7ec08>"
      ]
     },
     "execution_count": 19,
     "metadata": {},
     "output_type": "execute_result"
    }
   ],
   "source": [
    "model.fit(train_images, train_labels, epochs=100,batch_size=100)"
   ]
  },
  {
   "cell_type": "code",
   "execution_count": 20,
   "metadata": {},
   "outputs": [
    {
     "name": "stdout",
     "output_type": "stream",
     "text": [
      "10000/10000 [==============================] - 2s 162us/step\n"
     ]
    }
   ],
   "source": [
    "eva=model.evaluate(test_images, test_labels)"
   ]
  },
  {
   "cell_type": "code",
   "execution_count": 21,
   "metadata": {},
   "outputs": [
    {
     "data": {
      "text/plain": [
       "89.02999758720398"
      ]
     },
     "execution_count": 21,
     "metadata": {},
     "output_type": "execute_result"
    }
   ],
   "source": [
    "loss=eva[0]\n",
    "accu=eva[1]\n",
    "\n",
    "accu*100"
   ]
  },
  {
   "cell_type": "code",
   "execution_count": 22,
   "metadata": {},
   "outputs": [],
   "source": [
    "predict=model.predict(test_images)"
   ]
  },
  {
   "cell_type": "code",
   "execution_count": 27,
   "metadata": {},
   "outputs": [
    {
     "data": {
      "text/plain": [
       "'Shirt'"
      ]
     },
     "execution_count": 27,
     "metadata": {},
     "output_type": "execute_result"
    }
   ],
   "source": [
    "class_labels[predict[354].argmax()]"
   ]
  },
  {
   "cell_type": "code",
   "execution_count": 26,
   "metadata": {},
   "outputs": [
    {
     "data": {
      "text/plain": [
       "<matplotlib.image.AxesImage at 0x123d93320c8>"
      ]
     },
     "execution_count": 26,
     "metadata": {},
     "output_type": "execute_result"
    },
    {
     "data": {
      "image/png": "[encoded data removed]",
      "text/plain": [
       "<Figure size 432x288 with 1 Axes>"
      ]
     },
     "metadata": {
      "needs_background": "light"
     },
     "output_type": "display_data"
    }
   ],
   "source": [
    "plt.imshow(test_images[354])"
   ]
  },
  {
   "cell_type": "code",
   "execution_count": 25,
   "metadata": {},
   "outputs": [
    {
     "name": "stdout",
     "output_type": "stream",
     "text": [
      "Num GPUs Available:  0\n"
     ]
    }
   ],
   "source": [
    "print(\"Num GPUs Available: \", len(tf.config.experimental.list_physical_devices('GPU')))"
   ]
  },
  {
   "cell_type": "code",
   "execution_count": 28,
   "metadata": {},
   "outputs": [
    {
     "name": "stdout",
     "output_type": "stream",
     "text": [
      "Model: \"sequential_1\"\n",
      "_________________________________________________________________\n",
      "Layer (type)                 Output Shape              Param #   \n",
      "=================================================================\n",
      "flatten_1 (Flatten)          (None, 784)               0         \n",
      "_________________________________________________________________\n",
      "dense_1 (Dense)              (None, 256)               200960    \n",
      "_________________________________________________________________\n",
      "dense_2 (Dense)              (None, 128)               32896     \n",
      "_________________________________________________________________\n",
      "dense_3 (Dense)              (None, 64)                8256      \n",
      "_________________________________________________________________\n",
      "dense_4 (Dense)              (None, 10)                650       \n",
      "=================================================================\n",
      "Total params: 242,762\n",
      "Trainable params: 242,762\n",
      "Non-trainable params: 0\n",
      "_________________________________________________________________\n"
     ]
    }
   ],
   "source": [
    "model.summary()"
   ]
  },
  {
   "cell_type": "code",
   "execution_count": null,
   "metadata": {},
   "outputs": [],
   "source": []
  }
 ],
 "metadata": {
  "kernelspec": {
   "display_name": "Python 3",
   "language": "python",
   "name": "python3"
  },
  "language_info": {
   "codemirror_mode": {
    "name": "ipython",
    "version": 3
   },
   "file_extension": ".py",
   "mimetype": "text/x-python",
   "name": "python",
   "nbconvert_exporter": "python",
   "pygments_lexer": "ipython3",
   "version": "3.7.10"
  }
 },
 "nbformat": 4,
 "nbformat_minor": 4
}
